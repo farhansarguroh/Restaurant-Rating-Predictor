{
  "cells": [
    {
      "cell_type": "markdown",
      "metadata": {
        "id": "UZljo7G5wLyT"
      },
      "source": [
        "# phase 1\n"
      ]
    },
    {
      "cell_type": "markdown",
      "metadata": {
        "id": "n0F7nkZtmpeq"
      },
      "source": [
        "## Libraries"
      ]
    },
    {
      "cell_type": "code",
      "execution_count": 4,
      "metadata": {
        "id": "ca8vBJJuTxha"
      },
      "outputs": [],
      "source": [
        "import numpy as np\n",
        "import pandas as pd\n",
        "import matplotlib.pyplot as plt\n",
        "%matplotlib inline\n",
        "import seaborn as sns\n",
        "from sklearn.model_selection import train_test_split\n",
        "from sklearn.ensemble import RandomForestRegressor\n",
        "from sklearn.metrics import mean_squared_error\n",
        "import joblib"
      ]
    },
    {
      "cell_type": "markdown",
      "metadata": {
        "id": "5_UnkeGcmvgk"
      },
      "source": [
        "## Cleaning and Preprcessing"
      ]
    },
    {
      "cell_type": "code",
      "execution_count": null,
      "metadata": {
        "id": "aLVXyzxKVOag"
      },
      "outputs": [],
      "source": [
        "df = pd.read_csv(\"/content/drive/MyDrive/PROJECTS/ZOMATODATAANALYSIS/DATASETS/Copy of zomato.csv\")"
      ]
    },
    {
      "cell_type": "code",
      "execution_count": null,
      "metadata": {
        "id": "HeF0tDjyVcxw"
      },
      "outputs": [],
      "source": [
        "data = df.drop(['url', 'address', 'phone', 'dish_liked', 'reviews_list', 'menu_item', 'location', 'name'], axis=1)"
      ]
    },
    {
      "cell_type": "code",
      "execution_count": null,
      "metadata": {
        "id": "17mkLgvPVgYe"
      },
      "outputs": [],
      "source": [
        "data = data.rename(columns={'approx_cost(for two people)': 'cost',\n",
        "               'listed_in(type)': 'type',\n",
        "               'listed_in(city)': 'city'})"
      ]
    },
    {
      "cell_type": "code",
      "execution_count": null,
      "metadata": {
        "id": "9B1u2HoGVkmC"
      },
      "outputs": [],
      "source": [
        "data.dropna(how='any', inplace=True)    #dropping nul values from the data"
      ]
    },
    {
      "cell_type": "code",
      "execution_count": null,
      "metadata": {
        "id": "mY01YWwlVpMm"
      },
      "outputs": [],
      "source": [
        "data.drop_duplicates(inplace=True)    #dropping the duplicates"
      ]
    },
    {
      "cell_type": "code",
      "execution_count": null,
      "metadata": {
        "id": "HdhWHFNtVwwo"
      },
      "outputs": [],
      "source": [
        "data['online_order'] = [0 if x == 'Yes' else 1 for x in data['online_order']]\n",
        "data['book_table'] = [0 if x == 'Yes' else 1 for x in data['book_table']]"
      ]
    },
    {
      "cell_type": "code",
      "execution_count": null,
      "metadata": {
        "id": "NK-CRPnXWiYs"
      },
      "outputs": [],
      "source": [
        "data = data.drop(['city'], axis=1)"
      ]
    },
    {
      "cell_type": "code",
      "execution_count": null,
      "metadata": {
        "id": "XaVfh2qrW6CQ"
      },
      "outputs": [],
      "source": [
        "data = data[data['rate'] != 'NEW']\n",
        "data = data[data['rate'] != '-']"
      ]
    },
    {
      "cell_type": "code",
      "execution_count": null,
      "metadata": {
        "id": "ob3yKZgHtA6n"
      },
      "outputs": [],
      "source": [
        "data['cost'] = data['cost'].replace(',', '', regex=True)"
      ]
    },
    {
      "cell_type": "code",
      "execution_count": null,
      "metadata": {
        "id": "-o1PWr9ctnub"
      },
      "outputs": [],
      "source": [
        "data['cost'] = data['cost'].astype(float)"
      ]
    },
    {
      "cell_type": "code",
      "execution_count": null,
      "metadata": {
        "id": "HM5668Tvvv1L"
      },
      "outputs": [],
      "source": [
        "data['rate'] = data['rate'].replace('/5', '', regex=True)"
      ]
    },
    {
      "cell_type": "code",
      "execution_count": null,
      "metadata": {
        "id": "ylrkXG1Hv4gp"
      },
      "outputs": [],
      "source": [
        "data['rate'] = data['rate'].astype(float)"
      ]
    },
    {
      "cell_type": "code",
      "execution_count": null,
      "metadata": {
        "id": "N-hVAPDev9Fy"
      },
      "outputs": [],
      "source": [
        "data.to_csv('preprocessed.csv', index=False)"
      ]
    },
    {
      "cell_type": "markdown",
      "metadata": {
        "id": "HWU_lpt6wTbV"
      },
      "source": [
        "checkpoint\n"
      ]
    },
    {
      "cell_type": "code",
      "execution_count": 10,
      "metadata": {
        "id": "54VZePgWwZwi"
      },
      "outputs": [],
      "source": [
        "df = pd.read_csv(\"Datasets\\preprocessed.csv\")"
      ]
    },
    {
      "cell_type": "code",
      "execution_count": 2,
      "metadata": {
        "id": "o-ufVMH7iUqn"
      },
      "outputs": [],
      "source": [
        "def expand_dataframe(df, column):\n",
        "    df_expanded = df.copy()\n",
        "    df_expanded[column] = df_expanded[column].str.split(', ')\n",
        "    df_expanded = df_expanded.explode(column)\n",
        "    return df_expanded"
      ]
    },
    {
      "cell_type": "code",
      "execution_count": 11,
      "metadata": {
        "id": "_ZT3l8nGoCkB"
      },
      "outputs": [],
      "source": [
        "df_expanded = expand_dataframe(df, 'rest_type')\n",
        "df_expanded = expand_dataframe(df_expanded, 'cuisines')"
      ]
    },
    {
      "cell_type": "code",
      "execution_count": 12,
      "metadata": {
        "id": "cdltsWveoEz8"
      },
      "outputs": [],
      "source": [
        "type_mean = df_expanded.groupby('type')['rate'].mean()\n",
        "rest_type_mean = df_expanded.groupby('rest_type')['rate'].mean()\n",
        "cuisines_mean = df_expanded.groupby('cuisines')['rate'].mean()"
      ]
    },
    {
      "cell_type": "code",
      "execution_count": 13,
      "metadata": {
        "id": "mefDEECOoHPw"
      },
      "outputs": [],
      "source": [
        "df_encoded = df_expanded.copy()\n",
        "df_encoded['type'] = df_expanded['type'].map(type_mean)\n",
        "df_encoded['rest_type'] = df_expanded['rest_type'].map(rest_type_mean)\n",
        "df_encoded['cuisines'] = df_expanded['cuisines'].map(cuisines_mean)"
      ]
    },
    {
      "cell_type": "code",
      "execution_count": 14,
      "metadata": {
        "id": "z6ovm59LoMa_"
      },
      "outputs": [],
      "source": [
        "df_encoded = df_encoded.fillna(df_encoded.mean())"
      ]
    },
    {
      "cell_type": "code",
      "execution_count": 24,
      "metadata": {},
      "outputs": [],
      "source": [
        "df_encoded.to_csv('preprocessed_encoded.csv', index=False)"
      ]
    },
    {
      "cell_type": "code",
      "execution_count": 27,
      "metadata": {},
      "outputs": [
        {
          "data": {
            "text/html": [
              "<div>\n",
              "<style scoped>\n",
              "    .dataframe tbody tr th:only-of-type {\n",
              "        vertical-align: middle;\n",
              "    }\n",
              "\n",
              "    .dataframe tbody tr th {\n",
              "        vertical-align: top;\n",
              "    }\n",
              "\n",
              "    .dataframe thead th {\n",
              "        text-align: right;\n",
              "    }\n",
              "</style>\n",
              "<table border=\"1\" class=\"dataframe\">\n",
              "  <thead>\n",
              "    <tr style=\"text-align: right;\">\n",
              "      <th></th>\n",
              "      <th>online_order</th>\n",
              "      <th>book_table</th>\n",
              "      <th>rate</th>\n",
              "      <th>votes</th>\n",
              "      <th>rest_type</th>\n",
              "      <th>cuisines</th>\n",
              "      <th>cost</th>\n",
              "      <th>type</th>\n",
              "    </tr>\n",
              "  </thead>\n",
              "  <tbody>\n",
              "    <tr>\n",
              "      <th>0</th>\n",
              "      <td>0</td>\n",
              "      <td>0</td>\n",
              "      <td>4.1</td>\n",
              "      <td>775</td>\n",
              "      <td>Casual Dining</td>\n",
              "      <td>North Indian, Mughlai, Chinese</td>\n",
              "      <td>800.0</td>\n",
              "      <td>Buffet</td>\n",
              "    </tr>\n",
              "    <tr>\n",
              "      <th>1</th>\n",
              "      <td>0</td>\n",
              "      <td>1</td>\n",
              "      <td>4.1</td>\n",
              "      <td>787</td>\n",
              "      <td>Casual Dining</td>\n",
              "      <td>Chinese, North Indian, Thai</td>\n",
              "      <td>800.0</td>\n",
              "      <td>Buffet</td>\n",
              "    </tr>\n",
              "    <tr>\n",
              "      <th>2</th>\n",
              "      <td>0</td>\n",
              "      <td>1</td>\n",
              "      <td>3.8</td>\n",
              "      <td>918</td>\n",
              "      <td>Cafe, Casual Dining</td>\n",
              "      <td>Cafe, Mexican, Italian</td>\n",
              "      <td>800.0</td>\n",
              "      <td>Buffet</td>\n",
              "    </tr>\n",
              "    <tr>\n",
              "      <th>3</th>\n",
              "      <td>1</td>\n",
              "      <td>1</td>\n",
              "      <td>3.7</td>\n",
              "      <td>88</td>\n",
              "      <td>Quick Bites</td>\n",
              "      <td>South Indian, North Indian</td>\n",
              "      <td>300.0</td>\n",
              "      <td>Buffet</td>\n",
              "    </tr>\n",
              "    <tr>\n",
              "      <th>4</th>\n",
              "      <td>1</td>\n",
              "      <td>1</td>\n",
              "      <td>3.8</td>\n",
              "      <td>166</td>\n",
              "      <td>Casual Dining</td>\n",
              "      <td>North Indian, Rajasthani</td>\n",
              "      <td>600.0</td>\n",
              "      <td>Buffet</td>\n",
              "    </tr>\n",
              "    <tr>\n",
              "      <th>...</th>\n",
              "      <td>...</td>\n",
              "      <td>...</td>\n",
              "      <td>...</td>\n",
              "      <td>...</td>\n",
              "      <td>...</td>\n",
              "      <td>...</td>\n",
              "      <td>...</td>\n",
              "      <td>...</td>\n",
              "    </tr>\n",
              "    <tr>\n",
              "      <th>41163</th>\n",
              "      <td>1</td>\n",
              "      <td>1</td>\n",
              "      <td>3.7</td>\n",
              "      <td>34</td>\n",
              "      <td>Casual Dining, Bar</td>\n",
              "      <td>North Indian, Continental</td>\n",
              "      <td>800.0</td>\n",
              "      <td>Pubs and bars</td>\n",
              "    </tr>\n",
              "    <tr>\n",
              "      <th>41164</th>\n",
              "      <td>1</td>\n",
              "      <td>1</td>\n",
              "      <td>2.5</td>\n",
              "      <td>81</td>\n",
              "      <td>Casual Dining, Bar</td>\n",
              "      <td>Andhra, South Indian, Chinese, North Indian</td>\n",
              "      <td>800.0</td>\n",
              "      <td>Pubs and bars</td>\n",
              "    </tr>\n",
              "    <tr>\n",
              "      <th>41165</th>\n",
              "      <td>1</td>\n",
              "      <td>1</td>\n",
              "      <td>3.6</td>\n",
              "      <td>27</td>\n",
              "      <td>Bar</td>\n",
              "      <td>Continental</td>\n",
              "      <td>1500.0</td>\n",
              "      <td>Pubs and bars</td>\n",
              "    </tr>\n",
              "    <tr>\n",
              "      <th>41166</th>\n",
              "      <td>1</td>\n",
              "      <td>0</td>\n",
              "      <td>4.3</td>\n",
              "      <td>236</td>\n",
              "      <td>Bar</td>\n",
              "      <td>Finger Food</td>\n",
              "      <td>2500.0</td>\n",
              "      <td>Pubs and bars</td>\n",
              "    </tr>\n",
              "    <tr>\n",
              "      <th>41167</th>\n",
              "      <td>1</td>\n",
              "      <td>1</td>\n",
              "      <td>3.4</td>\n",
              "      <td>13</td>\n",
              "      <td>Bar, Casual Dining</td>\n",
              "      <td>Finger Food, North Indian, Continental</td>\n",
              "      <td>1500.0</td>\n",
              "      <td>Pubs and bars</td>\n",
              "    </tr>\n",
              "  </tbody>\n",
              "</table>\n",
              "<p>41168 rows × 8 columns</p>\n",
              "</div>"
            ],
            "text/plain": [
              "       online_order  book_table  rate  votes            rest_type  \\\n",
              "0                 0           0   4.1    775        Casual Dining   \n",
              "1                 0           1   4.1    787        Casual Dining   \n",
              "2                 0           1   3.8    918  Cafe, Casual Dining   \n",
              "3                 1           1   3.7     88          Quick Bites   \n",
              "4                 1           1   3.8    166        Casual Dining   \n",
              "...             ...         ...   ...    ...                  ...   \n",
              "41163             1           1   3.7     34   Casual Dining, Bar   \n",
              "41164             1           1   2.5     81   Casual Dining, Bar   \n",
              "41165             1           1   3.6     27                  Bar   \n",
              "41166             1           0   4.3    236                  Bar   \n",
              "41167             1           1   3.4     13   Bar, Casual Dining   \n",
              "\n",
              "                                          cuisines    cost           type  \n",
              "0                   North Indian, Mughlai, Chinese   800.0         Buffet  \n",
              "1                      Chinese, North Indian, Thai   800.0         Buffet  \n",
              "2                           Cafe, Mexican, Italian   800.0         Buffet  \n",
              "3                       South Indian, North Indian   300.0         Buffet  \n",
              "4                         North Indian, Rajasthani   600.0         Buffet  \n",
              "...                                            ...     ...            ...  \n",
              "41163                    North Indian, Continental   800.0  Pubs and bars  \n",
              "41164  Andhra, South Indian, Chinese, North Indian   800.0  Pubs and bars  \n",
              "41165                                  Continental  1500.0  Pubs and bars  \n",
              "41166                                  Finger Food  2500.0  Pubs and bars  \n",
              "41167       Finger Food, North Indian, Continental  1500.0  Pubs and bars  \n",
              "\n",
              "[41168 rows x 8 columns]"
            ]
          },
          "execution_count": 27,
          "metadata": {},
          "output_type": "execute_result"
        }
      ],
      "source": [
        "df"
      ]
    },
    {
      "cell_type": "markdown",
      "metadata": {
        "id": "XZ_ixBpNnRDU"
      },
      "source": [
        "## Train Test Split"
      ]
    },
    {
      "cell_type": "code",
      "execution_count": 15,
      "metadata": {
        "id": "zM6sVgU4nOyQ"
      },
      "outputs": [],
      "source": [
        "X = df_encoded.drop('rate', axis=1)\n",
        "y = df_encoded['rate']\n",
        "\n",
        "X_train, X_test, y_train, y_test = train_test_split(X, y, test_size=0.2, random_state=42)"
      ]
    },
    {
      "cell_type": "markdown",
      "metadata": {
        "id": "ZCeao6AD2lD7"
      },
      "source": [
        "## Model 2: Random Forest Regressor"
      ]
    },
    {
      "cell_type": "code",
      "execution_count": 16,
      "metadata": {
        "colab": {
          "base_uri": "https://localhost:8080/"
        },
        "id": "LJGydfOu0Owi",
        "outputId": "d6aec28b-4dee-48b3-c1fb-c4cabb361123"
      },
      "outputs": [
        {
          "data": {
            "text/html": [
              "<style>#sk-container-id-1 {color: black;}#sk-container-id-1 pre{padding: 0;}#sk-container-id-1 div.sk-toggleable {background-color: white;}#sk-container-id-1 label.sk-toggleable__label {cursor: pointer;display: block;width: 100%;margin-bottom: 0;padding: 0.3em;box-sizing: border-box;text-align: center;}#sk-container-id-1 label.sk-toggleable__label-arrow:before {content: \"▸\";float: left;margin-right: 0.25em;color: #696969;}#sk-container-id-1 label.sk-toggleable__label-arrow:hover:before {color: black;}#sk-container-id-1 div.sk-estimator:hover label.sk-toggleable__label-arrow:before {color: black;}#sk-container-id-1 div.sk-toggleable__content {max-height: 0;max-width: 0;overflow: hidden;text-align: left;background-color: #f0f8ff;}#sk-container-id-1 div.sk-toggleable__content pre {margin: 0.2em;color: black;border-radius: 0.25em;background-color: #f0f8ff;}#sk-container-id-1 input.sk-toggleable__control:checked~div.sk-toggleable__content {max-height: 200px;max-width: 100%;overflow: auto;}#sk-container-id-1 input.sk-toggleable__control:checked~label.sk-toggleable__label-arrow:before {content: \"▾\";}#sk-container-id-1 div.sk-estimator input.sk-toggleable__control:checked~label.sk-toggleable__label {background-color: #d4ebff;}#sk-container-id-1 div.sk-label input.sk-toggleable__control:checked~label.sk-toggleable__label {background-color: #d4ebff;}#sk-container-id-1 input.sk-hidden--visually {border: 0;clip: rect(1px 1px 1px 1px);clip: rect(1px, 1px, 1px, 1px);height: 1px;margin: -1px;overflow: hidden;padding: 0;position: absolute;width: 1px;}#sk-container-id-1 div.sk-estimator {font-family: monospace;background-color: #f0f8ff;border: 1px dotted black;border-radius: 0.25em;box-sizing: border-box;margin-bottom: 0.5em;}#sk-container-id-1 div.sk-estimator:hover {background-color: #d4ebff;}#sk-container-id-1 div.sk-parallel-item::after {content: \"\";width: 100%;border-bottom: 1px solid gray;flex-grow: 1;}#sk-container-id-1 div.sk-label:hover label.sk-toggleable__label {background-color: #d4ebff;}#sk-container-id-1 div.sk-serial::before {content: \"\";position: absolute;border-left: 1px solid gray;box-sizing: border-box;top: 0;bottom: 0;left: 50%;z-index: 0;}#sk-container-id-1 div.sk-serial {display: flex;flex-direction: column;align-items: center;background-color: white;padding-right: 0.2em;padding-left: 0.2em;position: relative;}#sk-container-id-1 div.sk-item {position: relative;z-index: 1;}#sk-container-id-1 div.sk-parallel {display: flex;align-items: stretch;justify-content: center;background-color: white;position: relative;}#sk-container-id-1 div.sk-item::before, #sk-container-id-1 div.sk-parallel-item::before {content: \"\";position: absolute;border-left: 1px solid gray;box-sizing: border-box;top: 0;bottom: 0;left: 50%;z-index: -1;}#sk-container-id-1 div.sk-parallel-item {display: flex;flex-direction: column;z-index: 1;position: relative;background-color: white;}#sk-container-id-1 div.sk-parallel-item:first-child::after {align-self: flex-end;width: 50%;}#sk-container-id-1 div.sk-parallel-item:last-child::after {align-self: flex-start;width: 50%;}#sk-container-id-1 div.sk-parallel-item:only-child::after {width: 0;}#sk-container-id-1 div.sk-dashed-wrapped {border: 1px dashed gray;margin: 0 0.4em 0.5em 0.4em;box-sizing: border-box;padding-bottom: 0.4em;background-color: white;}#sk-container-id-1 div.sk-label label {font-family: monospace;font-weight: bold;display: inline-block;line-height: 1.2em;}#sk-container-id-1 div.sk-label-container {text-align: center;}#sk-container-id-1 div.sk-container {/* jupyter's `normalize.less` sets `[hidden] { display: none; }` but bootstrap.min.css set `[hidden] { display: none !important; }` so we also need the `!important` here to be able to override the default hidden behavior on the sphinx rendered scikit-learn.org. See: https://github.com/scikit-learn/scikit-learn/issues/21755 */display: inline-block !important;position: relative;}#sk-container-id-1 div.sk-text-repr-fallback {display: none;}</style><div id=\"sk-container-id-1\" class=\"sk-top-container\"><div class=\"sk-text-repr-fallback\"><pre>RandomForestRegressor(random_state=42)</pre><b>In a Jupyter environment, please rerun this cell to show the HTML representation or trust the notebook. <br />On GitHub, the HTML representation is unable to render, please try loading this page with nbviewer.org.</b></div><div class=\"sk-container\" hidden><div class=\"sk-item\"><div class=\"sk-estimator sk-toggleable\"><input class=\"sk-toggleable__control sk-hidden--visually\" id=\"sk-estimator-id-1\" type=\"checkbox\" checked><label for=\"sk-estimator-id-1\" class=\"sk-toggleable__label sk-toggleable__label-arrow\">RandomForestRegressor</label><div class=\"sk-toggleable__content\"><pre>RandomForestRegressor(random_state=42)</pre></div></div></div></div></div>"
            ],
            "text/plain": [
              "RandomForestRegressor(random_state=42)"
            ]
          },
          "execution_count": 16,
          "metadata": {},
          "output_type": "execute_result"
        }
      ],
      "source": [
        "rf_regressor = RandomForestRegressor(n_estimators=100, random_state=42)\n",
        "rf_regressor.fit(X_train, y_train)"
      ]
    },
    {
      "cell_type": "code",
      "execution_count": 17,
      "metadata": {
        "id": "JudOiptfneR8"
      },
      "outputs": [],
      "source": [
        "y_pred = rf_regressor.predict(X_test)"
      ]
    },
    {
      "cell_type": "code",
      "execution_count": 18,
      "metadata": {
        "id": "kG3nkGDSnwBP"
      },
      "outputs": [
        {
          "name": "stdout",
          "output_type": "stream",
          "text": [
            "Root Mean Squared Error: 0.13247801414617044\n",
            "R^2 Score: 0.9165887272781876\n"
          ]
        }
      ],
      "source": [
        "mse = mean_squared_error(y_test, y_pred)\n",
        "rmse = mse ** 0.5\n",
        "\n",
        "r2_score = rf_regressor.score(X_test, y_test)\n",
        "\n",
        "print(f'Root Mean Squared Error: {rmse}')\n",
        "print(f'R^2 Score: {r2_score}')"
      ]
    },
    {
      "cell_type": "markdown",
      "metadata": {
        "id": "4oi4LU1hn1cZ"
      },
      "source": [
        "### Dump :)"
      ]
    },
    {
      "cell_type": "code",
      "execution_count": 19,
      "metadata": {
        "id": "NhoverIWn0s8"
      },
      "outputs": [
        {
          "data": {
            "text/plain": [
              "['random_forest_model_expanded.pkl']"
            ]
          },
          "execution_count": 19,
          "metadata": {},
          "output_type": "execute_result"
        }
      ],
      "source": [
        "joblib.dump(rf_regressor, 'random_forest_model_expanded.pkl')"
      ]
    },
    {
      "cell_type": "markdown",
      "metadata": {
        "id": "noJvXvKj27tW"
      },
      "source": [
        "## proto 1\n"
      ]
    },
    {
      "cell_type": "code",
      "execution_count": 20,
      "metadata": {
        "colab": {
          "base_uri": "https://localhost:8080/"
        },
        "id": "gfvjTziJcdu7",
        "outputId": "f95b9870-14d4-4443-c3a5-925770a0e1cb"
      },
      "outputs": [],
      "source": [
        "import pandas as pd\n",
        "import joblib\n",
        "\n",
        "# Load the saved model\n",
        "rf_regressor = joblib.load('random_forest_model_expanded.pkl')\n",
        "\n",
        "# Function to expand the dataframe for multi-category cells\n",
        "def expand_dataframe(df, column):\n",
        "    df_expanded = df.copy()\n",
        "    df_expanded[column] = df_expanded[column].str.split(', ')\n",
        "    df_expanded = df_expanded.explode(column)\n",
        "    return df_expanded\n",
        "\n",
        "# Function to preprocess input data and predict the rating\n",
        "def predict_restaurant_rating(online_order, book_table, votes, rest_type, cuisines, cost, type):\n",
        "    # Create a dataframe for the input data\n",
        "    input_data = pd.DataFrame({\n",
        "        'online_order': [online_order],\n",
        "        'book_table': [book_table],\n",
        "        'votes': [votes],\n",
        "        'rest_type': [rest_type],\n",
        "        'cuisines': [cuisines],\n",
        "        'cost': [cost],\n",
        "        'type': [type]\n",
        "    })\n",
        "\n",
        "    # Expand the dataframe for 'rest_type' and 'cuisines'\n",
        "    input_data = expand_dataframe(input_data, 'rest_type')\n",
        "    input_data = expand_dataframe(input_data, 'cuisines')\n",
        "\n",
        "    # Map the means to the respective categories\n",
        "    input_data['type'] = input_data['type'].map(type_mean)\n",
        "    input_data['rest_type'] = input_data['rest_type'].map(rest_type_mean)\n",
        "    input_data['cuisines'] = input_data['cuisines'].map(cuisines_mean)\n",
        "\n",
        "    # Fill NaN values resulting from unmapped categories with the overall mean\n",
        "    input_data = input_data.fillna(df_encoded.mean())\n",
        "\n",
        "    # Predict the rating using the trained model and take the mean of predictions\n",
        "    predicted_rating = rf_regressor.predict(input_data).mean()\n",
        "\n",
        "    return predicted_rating"
      ]
    },
    {
      "cell_type": "code",
      "execution_count": 21,
      "metadata": {
        "id": "8qJ6hS0xjrKa"
      },
      "outputs": [],
      "source": [
        "def get_user_input_and_predict():\n",
        "    online_order = int(input(\"Does the restaurant accept online orders? (1 for Yes, 0 for No): \"))\n",
        "    book_table = int(input(\"Can the restaurant book tables? (1 for Yes, 0 for No): \"))\n",
        "    votes = int(input(\"Enter the number of votes: \"))\n",
        "    rest_type = input(\"Enter the restaurant types (comma separated if multiple): \")\n",
        "    cuisines = input(\"Enter the cuisines (comma separated if multiple): \")\n",
        "    cost = float(input(\"Enter the average cost for two people: \"))\n",
        "    type = input(\"Enter the restaurant type (Buffet, Casual Dining, etc.): \")\n",
        "\n",
        "    predicted_rating = predict_restaurant_rating(\n",
        "        online_order=online_order,\n",
        "        book_table=book_table,\n",
        "        votes=votes,\n",
        "        rest_type=rest_type,\n",
        "        cuisines=cuisines,\n",
        "        cost=cost,\n",
        "        type=type\n",
        "    )\n",
        "\n",
        "    print(f'Predicted Rating: {predicted_rating:.2f}')"
      ]
    },
    {
      "cell_type": "code",
      "execution_count": 23,
      "metadata": {
        "colab": {
          "base_uri": "https://localhost:8080/"
        },
        "id": "DTQBlO7NlfN_",
        "outputId": "98f3677c-6df4-4008-a711-f04412e4fb7a"
      },
      "outputs": [
        {
          "ename": "KeyboardInterrupt",
          "evalue": "Interrupted by user",
          "output_type": "error",
          "traceback": [
            "\u001b[1;31m---------------------------------------------------------------------------\u001b[0m",
            "\u001b[1;31mKeyboardInterrupt\u001b[0m                         Traceback (most recent call last)",
            "Cell \u001b[1;32mIn[23], line 2\u001b[0m\n\u001b[0;32m      1\u001b[0m \u001b[38;5;66;03m# Run the function to get user input and predict the rating\u001b[39;00m\n\u001b[1;32m----> 2\u001b[0m \u001b[43mget_user_input_and_predict\u001b[49m\u001b[43m(\u001b[49m\u001b[43m)\u001b[49m\n",
            "Cell \u001b[1;32mIn[21], line 2\u001b[0m, in \u001b[0;36mget_user_input_and_predict\u001b[1;34m()\u001b[0m\n\u001b[0;32m      1\u001b[0m \u001b[38;5;28;01mdef\u001b[39;00m \u001b[38;5;21mget_user_input_and_predict\u001b[39m():\n\u001b[1;32m----> 2\u001b[0m     online_order \u001b[38;5;241m=\u001b[39m \u001b[38;5;28mint\u001b[39m(\u001b[38;5;28;43minput\u001b[39;49m\u001b[43m(\u001b[49m\u001b[38;5;124;43m\"\u001b[39;49m\u001b[38;5;124;43mDoes the restaurant accept online orders? (1 for Yes, 0 for No): \u001b[39;49m\u001b[38;5;124;43m\"\u001b[39;49m\u001b[43m)\u001b[49m)\n\u001b[0;32m      3\u001b[0m     book_table \u001b[38;5;241m=\u001b[39m \u001b[38;5;28mint\u001b[39m(\u001b[38;5;28minput\u001b[39m(\u001b[38;5;124m\"\u001b[39m\u001b[38;5;124mCan the restaurant book tables? (1 for Yes, 0 for No): \u001b[39m\u001b[38;5;124m\"\u001b[39m))\n\u001b[0;32m      4\u001b[0m     votes \u001b[38;5;241m=\u001b[39m \u001b[38;5;28mint\u001b[39m(\u001b[38;5;28minput\u001b[39m(\u001b[38;5;124m\"\u001b[39m\u001b[38;5;124mEnter the number of votes: \u001b[39m\u001b[38;5;124m\"\u001b[39m))\n",
            "File \u001b[1;32m~\\AppData\\Local\\Packages\\PythonSoftwareFoundation.Python.3.11_qbz5n2kfra8p0\\LocalCache\\local-packages\\Python311\\site-packages\\ipykernel\\kernelbase.py:1282\u001b[0m, in \u001b[0;36mKernel.raw_input\u001b[1;34m(self, prompt)\u001b[0m\n\u001b[0;32m   1280\u001b[0m     msg \u001b[38;5;241m=\u001b[39m \u001b[38;5;124m\"\u001b[39m\u001b[38;5;124mraw_input was called, but this frontend does not support input requests.\u001b[39m\u001b[38;5;124m\"\u001b[39m\n\u001b[0;32m   1281\u001b[0m     \u001b[38;5;28;01mraise\u001b[39;00m StdinNotImplementedError(msg)\n\u001b[1;32m-> 1282\u001b[0m \u001b[38;5;28;01mreturn\u001b[39;00m \u001b[38;5;28;43mself\u001b[39;49m\u001b[38;5;241;43m.\u001b[39;49m\u001b[43m_input_request\u001b[49m\u001b[43m(\u001b[49m\n\u001b[0;32m   1283\u001b[0m \u001b[43m    \u001b[49m\u001b[38;5;28;43mstr\u001b[39;49m\u001b[43m(\u001b[49m\u001b[43mprompt\u001b[49m\u001b[43m)\u001b[49m\u001b[43m,\u001b[49m\n\u001b[0;32m   1284\u001b[0m \u001b[43m    \u001b[49m\u001b[38;5;28;43mself\u001b[39;49m\u001b[38;5;241;43m.\u001b[39;49m\u001b[43m_parent_ident\u001b[49m\u001b[43m[\u001b[49m\u001b[38;5;124;43m\"\u001b[39;49m\u001b[38;5;124;43mshell\u001b[39;49m\u001b[38;5;124;43m\"\u001b[39;49m\u001b[43m]\u001b[49m\u001b[43m,\u001b[49m\n\u001b[0;32m   1285\u001b[0m \u001b[43m    \u001b[49m\u001b[38;5;28;43mself\u001b[39;49m\u001b[38;5;241;43m.\u001b[39;49m\u001b[43mget_parent\u001b[49m\u001b[43m(\u001b[49m\u001b[38;5;124;43m\"\u001b[39;49m\u001b[38;5;124;43mshell\u001b[39;49m\u001b[38;5;124;43m\"\u001b[39;49m\u001b[43m)\u001b[49m\u001b[43m,\u001b[49m\n\u001b[0;32m   1286\u001b[0m \u001b[43m    \u001b[49m\u001b[43mpassword\u001b[49m\u001b[38;5;241;43m=\u001b[39;49m\u001b[38;5;28;43;01mFalse\u001b[39;49;00m\u001b[43m,\u001b[49m\n\u001b[0;32m   1287\u001b[0m \u001b[43m\u001b[49m\u001b[43m)\u001b[49m\n",
            "File \u001b[1;32m~\\AppData\\Local\\Packages\\PythonSoftwareFoundation.Python.3.11_qbz5n2kfra8p0\\LocalCache\\local-packages\\Python311\\site-packages\\ipykernel\\kernelbase.py:1325\u001b[0m, in \u001b[0;36mKernel._input_request\u001b[1;34m(self, prompt, ident, parent, password)\u001b[0m\n\u001b[0;32m   1322\u001b[0m \u001b[38;5;28;01mexcept\u001b[39;00m \u001b[38;5;167;01mKeyboardInterrupt\u001b[39;00m:\n\u001b[0;32m   1323\u001b[0m     \u001b[38;5;66;03m# re-raise KeyboardInterrupt, to truncate traceback\u001b[39;00m\n\u001b[0;32m   1324\u001b[0m     msg \u001b[38;5;241m=\u001b[39m \u001b[38;5;124m\"\u001b[39m\u001b[38;5;124mInterrupted by user\u001b[39m\u001b[38;5;124m\"\u001b[39m\n\u001b[1;32m-> 1325\u001b[0m     \u001b[38;5;28;01mraise\u001b[39;00m \u001b[38;5;167;01mKeyboardInterrupt\u001b[39;00m(msg) \u001b[38;5;28;01mfrom\u001b[39;00m \u001b[38;5;28;01mNone\u001b[39;00m\n\u001b[0;32m   1326\u001b[0m \u001b[38;5;28;01mexcept\u001b[39;00m \u001b[38;5;167;01mException\u001b[39;00m:\n\u001b[0;32m   1327\u001b[0m     \u001b[38;5;28mself\u001b[39m\u001b[38;5;241m.\u001b[39mlog\u001b[38;5;241m.\u001b[39mwarning(\u001b[38;5;124m\"\u001b[39m\u001b[38;5;124mInvalid Message:\u001b[39m\u001b[38;5;124m\"\u001b[39m, exc_info\u001b[38;5;241m=\u001b[39m\u001b[38;5;28;01mTrue\u001b[39;00m)\n",
            "\u001b[1;31mKeyboardInterrupt\u001b[0m: Interrupted by user"
          ]
        }
      ],
      "source": [
        "# Run the function to get user input and predict the rating\n",
        "get_user_input_and_predict()"
      ]
    },
    {
      "cell_type": "code",
      "execution_count": null,
      "metadata": {},
      "outputs": [],
      "source": []
    }
  ],
  "metadata": {
    "colab": {
      "collapsed_sections": [
        "n0F7nkZtmpeq",
        "5_UnkeGcmvgk",
        "XZ_ixBpNnRDU",
        "ZCeao6AD2lD7",
        "4oi4LU1hn1cZ",
        "noJvXvKj27tW"
      ],
      "provenance": []
    },
    "kernelspec": {
      "display_name": "Python 3",
      "name": "python3"
    },
    "language_info": {
      "codemirror_mode": {
        "name": "ipython",
        "version": 3
      },
      "file_extension": ".py",
      "mimetype": "text/x-python",
      "name": "python",
      "nbconvert_exporter": "python",
      "pygments_lexer": "ipython3",
      "version": "3.11.9"
    }
  },
  "nbformat": 4,
  "nbformat_minor": 0
}
